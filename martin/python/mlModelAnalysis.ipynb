{
 "cells": [
  {
   "cell_type": "code",
   "execution_count": 82,
   "metadata": {},
   "outputs": [],
   "source": [
    "import coremltools\n",
    "#import google.protobuf as proto\n",
    "import json\n",
    "\n",
    "model = coremltools.models.MLModel('../swift/titanic.mlmodel')\n",
    "\n",
    "def print_fields(message):\n",
    "    for field in message.DESCRIPTOR.fields:\n",
    "        print(field.name)\n",
    "        \n"
   ]
  },
  {
   "cell_type": "code",
   "execution_count": 83,
   "metadata": {},
   "outputs": [
    {
     "data": {
      "text/plain": [
       "coremltools.models.model.MLModel"
      ]
     },
     "execution_count": 83,
     "metadata": {},
     "output_type": "execute_result"
    }
   ],
   "source": [
    "type(model)"
   ]
  },
  {
   "cell_type": "code",
   "execution_count": 84,
   "metadata": {},
   "outputs": [
    {
     "data": {
      "text/plain": [
       "Model_pb2.Model"
      ]
     },
     "execution_count": 84,
     "metadata": {},
     "output_type": "execute_result"
    }
   ],
   "source": [
    "spec = model.get_spec()\n",
    "type(spec)"
   ]
  },
  {
   "cell_type": "code",
   "execution_count": 85,
   "metadata": {},
   "outputs": [
    {
     "name": "stdout",
     "output_type": "stream",
     "text": [
      "specificationVersion\n",
      "description\n",
      "pipelineClassifier\n",
      "pipelineRegressor\n",
      "pipeline\n",
      "glmRegressor\n",
      "supportVectorRegressor\n",
      "treeEnsembleRegressor\n",
      "neuralNetworkRegressor\n",
      "glmClassifier\n",
      "supportVectorClassifier\n",
      "treeEnsembleClassifier\n",
      "neuralNetworkClassifier\n",
      "neuralNetwork\n",
      "oneHotEncoder\n",
      "imputer\n",
      "featureVectorizer\n",
      "dictVectorizer\n",
      "scaler\n",
      "categoricalMapping\n",
      "normalizer\n",
      "arrayFeatureExtractor\n",
      "identity\n"
     ]
    }
   ],
   "source": [
    "for field in spec.DESCRIPTOR.fields:\n",
    "    print(field.name)"
   ]
  },
  {
   "cell_type": "code",
   "execution_count": 86,
   "metadata": {},
   "outputs": [],
   "source": [
    "pipeline_models = spec.pipelineClassifier.pipeline.models"
   ]
  },
  {
   "cell_type": "code",
   "execution_count": 87,
   "metadata": {},
   "outputs": [
    {
     "name": "stdout",
     "output_type": "stream",
     "text": [
      "shortDescription: \"One Hot Encoder on Column0\"\n",
      "\n",
      "shortDescription: \"One Hot Encoder on Column4\"\n",
      "\n",
      "shortDescription: \"One Hot Encoder on Column5\"\n",
      "\n",
      "shortDescription: \"One Hot Encoder on Column9\"\n",
      "\n",
      "\n",
      "shortDescription: \"Tree Ensemble\"\n",
      "\n"
     ]
    }
   ],
   "source": [
    "for pm in pipeline_models:\n",
    "    print(pm.description.metadata)"
   ]
  },
  {
   "cell_type": "code",
   "execution_count": 88,
   "metadata": {},
   "outputs": [],
   "source": [
    "tree_ensemble_model = pipeline_models[5]"
   ]
  },
  {
   "cell_type": "code",
   "execution_count": 95,
   "metadata": {},
   "outputs": [
    {
     "name": "stdout",
     "output_type": "stream",
     "text": [
      "<class 'TreeEnsemble_pb2.TreeEnsembleParameters'>\n",
      "nodes\n",
      "numPredictionDimensions\n",
      "basePredictionValue\n"
     ]
    }
   ],
   "source": [
    "tec = tree_ensemble.treeEnsembleClassifier.treeEnsemble\n",
    "print(type(tec))\n",
    "print_fields(tec)"
   ]
  },
  {
   "cell_type": "code",
   "execution_count": 90,
   "metadata": {},
   "outputs": [
    {
     "data": {
      "text/plain": [
       "['MergeFrom',\n",
       " '__class__',\n",
       " '__deepcopy__',\n",
       " '__delattr__',\n",
       " '__delitem__',\n",
       " '__dir__',\n",
       " '__doc__',\n",
       " '__eq__',\n",
       " '__format__',\n",
       " '__ge__',\n",
       " '__getattribute__',\n",
       " '__getitem__',\n",
       " '__gt__',\n",
       " '__hash__',\n",
       " '__init__',\n",
       " '__init_subclass__',\n",
       " '__le__',\n",
       " '__len__',\n",
       " '__lt__',\n",
       " '__ne__',\n",
       " '__new__',\n",
       " '__reduce__',\n",
       " '__reduce_ex__',\n",
       " '__repr__',\n",
       " '__setattr__',\n",
       " '__setitem__',\n",
       " '__sizeof__',\n",
       " '__str__',\n",
       " '__subclasshook__',\n",
       " 'add',\n",
       " 'extend',\n",
       " 'pop',\n",
       " 'remove',\n",
       " 'sort']"
      ]
     },
     "execution_count": 90,
     "metadata": {},
     "output_type": "execute_result"
    }
   ],
   "source": [
    "dir(tec.nodes)"
   ]
  },
  {
   "cell_type": "code",
   "execution_count": 91,
   "metadata": {},
   "outputs": [
    {
     "data": {
      "text/plain": [
       "61"
      ]
     },
     "execution_count": 91,
     "metadata": {},
     "output_type": "execute_result"
    }
   ],
   "source": [
    "tec.nodes.__len__()"
   ]
  },
  {
   "cell_type": "code",
   "execution_count": 119,
   "metadata": {},
   "outputs": [
    {
     "data": {
      "text/plain": [
       "[nodeBehavior: BranchOnValueEqual\n",
       " branchFeatureIndex: 685\n",
       " branchFeatureValue: 1.0\n",
       " trueChildNodeId: 2\n",
       " falseChildNodeId: 1]"
      ]
     },
     "execution_count": 119,
     "metadata": {},
     "output_type": "execute_result"
    }
   ],
   "source": [
    "[node for node in tec.nodes if node.nodeId == 0]"
   ]
  },
  {
   "cell_type": "code",
   "execution_count": null,
   "metadata": {},
   "outputs": [],
   "source": []
  }
 ],
 "metadata": {
  "kernelspec": {
   "display_name": "Python 3",
   "language": "python",
   "name": "python3"
  },
  "language_info": {
   "codemirror_mode": {
    "name": "ipython",
    "version": 3
   },
   "file_extension": ".py",
   "mimetype": "text/x-python",
   "name": "python",
   "nbconvert_exporter": "python",
   "pygments_lexer": "ipython3",
   "version": "3.6.5"
  }
 },
 "nbformat": 4,
 "nbformat_minor": 2
}
